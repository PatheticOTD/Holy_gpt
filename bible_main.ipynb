{
 "cells": [
  {
   "cell_type": "code",
   "execution_count": 1,
   "metadata": {},
   "outputs": [],
   "source": [
    "import pandas as pd\n",
    "import nltk\n",
    "import os\n",
    "import numpy as np\n",
    "from math import log\n",
    "from nltk.corpus.reader import XMLCorpusReader"
   ]
  },
  {
   "cell_type": "code",
   "execution_count": 2,
   "metadata": {},
   "outputs": [],
   "source": [
    "bible = XMLCorpusReader('', 'ru_bible.xml')"
   ]
  },
  {
   "cell_type": "code",
   "execution_count": 3,
   "metadata": {},
   "outputs": [],
   "source": [
    "words = bible.words()\n",
    "sents = ' '.join(words)"
   ]
  },
  {
   "cell_type": "code",
   "execution_count": 4,
   "metadata": {},
   "outputs": [
    {
     "name": "stdout",
     "output_type": "stream",
     "text": [
      "28407 702152\n"
     ]
    }
   ],
   "source": [
    "st = nltk.tokenize.PunktSentenceTokenizer()\n",
    "words = nltk.tokenize.word_tokenize(sents)\n",
    "separated_sentenses = st.tokenize(sents)\n",
    "\n",
    "print(len(separated_sentenses), len(words))"
   ]
  },
  {
   "cell_type": "code",
   "execution_count": 6,
   "metadata": {},
   "outputs": [
    {
     "name": "stdout",
     "output_type": "stream",
     "text": [
      "['в', 'начале', 'сотворил', 'бог', 'небо', 'и', 'землю', '.', 'земля', 'же']\n",
      "47000 / 47418\r"
     ]
    }
   ],
   "source": [
    "vocab = {}\n",
    "c = 0\n",
    "unique = set(words)\n",
    "for i in range(len(words)):\n",
    "    words[i] = words[i].lower()\n",
    "\n",
    "for i in unique:\n",
    "    for j in words:\n",
    "        if i == j:\n",
    "            vocab[i] = vocab.get(i, 0) + 1\n",
    "    if c % 1000 == 0:\n",
    "        print(f\"{c} / {len(unique)}\", end = '\\r')\n",
    "    c+=1"
   ]
  },
  {
   "cell_type": "code",
   "execution_count": 7,
   "metadata": {},
   "outputs": [],
   "source": [
    "dick = {}\n",
    "\n",
    "for i in range(1, len(words)):\n",
    "    probs =  (dick.get(f\"{words[i-1]} {words[i]}\", 0) + 1)\n",
    "    dick[f\"{words[i-1]} {words[i]}\"] = probs\n",
    "for key in dick.keys():\n",
    "    logit = log(dick[key] / vocab[key.split()[0]])\n",
    "    dick[key] = -logit if logit < 0 else logit\n",
    "    "
   ]
  },
  {
   "cell_type": "code",
   "execution_count": 10,
   "metadata": {},
   "outputs": [
    {
     "data": {
      "text/plain": [
       "'бог твердь посреди воды потопа , скотов по тверди силы противостоять врагам ; сотворим человека так совершены небо ваше занятие ваше занятие ваше сделаю того колодезя был хитрее '"
      ]
     },
     "execution_count": 10,
     "metadata": {},
     "output_type": "execute_result"
    }
   ],
   "source": [
    "import random\n",
    "n = 500\n",
    "starting_word = 'бог'\n",
    "ans = [starting_word]\n",
    "curr_word = starting_word\n",
    "for i in range(n):\n",
    "    max_proba = 0\n",
    "    word = ''\n",
    "    for j in dick:\n",
    "        if j.split()[0] == ans[-1]:\n",
    "            if dick[j] > max_proba:\n",
    "                max_proba = dick[j] + random.randrange(-1, 2)\n",
    "                word = j.split()[1]\n",
    "    ans.append(word)\n",
    "    if max_proba == 0:\n",
    "         break\n",
    "' '.join(ans)"
   ]
  },
  {
   "cell_type": "code",
   "execution_count": null,
   "metadata": {},
   "outputs": [],
   "source": [
    "import pickle\n",
    "\n",
    "with open('vocab.pkl', 'wb') as f:\n",
    "    pickle.dump(vocab, f)"
   ]
  },
  {
   "cell_type": "code",
   "execution_count": null,
   "metadata": {},
   "outputs": [],
   "source": [
    "def min_edit_distance(sourse, target):\n",
    "    n = len(sourse)\n",
    "    m = len(target)\n",
    "    D = np.zeros((n+1, m+1), dtype = np.int64)\n",
    "    \n",
    "    D[:, 0] = np.cumsum(np.arange(0, n + 1))\n",
    "    D[0, :] = np.cumsum(np.arange(0, m + 1))\n",
    "    \n",
    "    for i in range(1, n+1):\n",
    "        for j in range(1, m+1):\n",
    "            D[i, j] = min(\n",
    "                D[i-1, j] + 1,\n",
    "                D[i, j-1] + 1,\n",
    "                D[i-1, j-1] + 2 if sourse[i-1] != target[j-1] else D[i-1, j-1]\n",
    "            )\n",
    "    return D[-1, -1]\n",
    "if __name__ == \"__main__\":\n",
    "    print(min_edit_distance('Дима', 'Димус'))"
   ]
  }
 ],
 "metadata": {
  "kernelspec": {
   "display_name": "torch_hub",
   "language": "python",
   "name": "python3"
  },
  "language_info": {
   "codemirror_mode": {
    "name": "ipython",
    "version": 3
   },
   "file_extension": ".py",
   "mimetype": "text/x-python",
   "name": "python",
   "nbconvert_exporter": "python",
   "pygments_lexer": "ipython3",
   "version": "3.12.2"
  }
 },
 "nbformat": 4,
 "nbformat_minor": 2
}
