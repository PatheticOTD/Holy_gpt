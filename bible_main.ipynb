{
 "cells": [
  {
   "cell_type": "code",
   "execution_count": 1,
   "metadata": {},
   "outputs": [],
   "source": [
    "import pandas as pd\n",
    "import nltk\n",
    "import os\n",
    "import numpy as np\n",
    "from math import log\n",
    "from nltk.corpus.reader import XMLCorpusReader"
   ]
  },
  {
   "cell_type": "code",
   "execution_count": 2,
   "metadata": {},
   "outputs": [],
   "source": [
    "bible = XMLCorpusReader('', 'ru_bible.xml')"
   ]
  },
  {
   "cell_type": "code",
   "execution_count": null,
   "metadata": {},
   "outputs": [
    {
     "data": {
      "text/plain": [
       "'В начале сотворил Бог небо и землю . Земля же была безвидна и пуста , и тьма над бездною , и Дух Божий носился над водою . И сказал Бог : да будет свет . И сталсвет . И увидел Бог свет , что он хорош , и отделил Бог свет от тьмы . И назвал Бог свет днем , а тьму ночью . И был вечер , и было утро : день один . И сказал Бог : да будет твердь посреди воды , и да отделяет она воду от воды . И создал Бог твердь , и отделил воду , которая подтвердью , от воды , которая над твердью . И стало так . И на'"
      ]
     },
     "execution_count": 7,
     "metadata": {},
     "output_type": "execute_result"
    }
   ],
   "source": [
    "words = bible.words()\n",
    "sents = ' '.join(words)"
   ]
  },
  {
   "cell_type": "code",
   "execution_count": 8,
   "metadata": {},
   "outputs": [
    {
     "name": "stdout",
     "output_type": "stream",
     "text": [
      "28407 702152\n"
     ]
    }
   ],
   "source": [
    "st = nltk.tokenize.PunktSentenceTokenizer()\n",
    "words = nltk.tokenize.word_tokenize(sents)\n",
    "separated_sentenses = st.tokenize(sents)\n",
    "\n",
    "print(len(separated_sentenses), len(words))"
   ]
  },
  {
   "cell_type": "code",
   "execution_count": 10,
   "metadata": {},
   "outputs": [
    {
     "name": "stdout",
     "output_type": "stream",
     "text": [
      "50000 / 50102\r"
     ]
    }
   ],
   "source": [
    "vocab = {}\n",
    "c = 0\n",
    "unique = set(words)\n",
    "for i in unique:\n",
    "    for j in words:\n",
    "        if i == j:\n",
    "            vocab[i] = vocab.get(i, 0) + 1\n",
    "    if c % 1000 == 0:\n",
    "        print(f\"{c} / {len(unique)}\", end = '\\r')\n",
    "    c+=1"
   ]
  },
  {
   "cell_type": "code",
   "execution_count": 11,
   "metadata": {},
   "outputs": [],
   "source": [
    "dick = {}\n",
    "\n",
    "for i in range(1, len(words)):\n",
    "    probs =  (dick.get(f\"{words[i-1]} {words[i]}\", 0) + 1)\n",
    "    dick[f\"{words[i-1]} {words[i]}\"] = probs\n",
    "for key in dick.keys():\n",
    "    logit = log(dick[key] / vocab[key.split()[0]])\n",
    "    dick[key] = -logit if logit < 0 else logit\n",
    "    "
   ]
  },
  {
   "cell_type": "code",
   "execution_count": 27,
   "metadata": {},
   "outputs": [
    {
     "data": {
      "text/plain": [
       "'имя Иаков человеком ? Жена сказала жена змею : светило большее , приносящее по тверди силы своей для отделения сделай в поте '"
      ]
     },
     "execution_count": 27,
     "metadata": {},
     "output_type": "execute_result"
    }
   ],
   "source": [
    "import random\n",
    "n = 500\n",
    "starting_word = 'имя'\n",
    "ans = [starting_word]\n",
    "curr_word = starting_word\n",
    "for i in range(n):\n",
    "    max_proba = 0\n",
    "    word = ''\n",
    "    for j in dick:\n",
    "        if j.split()[0] == ans[-1]:\n",
    "            if dick[j] > max_proba:\n",
    "                max_proba = dick[j] + random.randrange(-1, 2)\n",
    "                word = j.split()[1]\n",
    "    ans.append(word)\n",
    "    if max_proba == 0:\n",
    "         break\n",
    "' '.join(ans)"
   ]
  },
  {
   "cell_type": "code",
   "execution_count": 20,
   "metadata": {},
   "outputs": [],
   "source": [
    "import pickle\n",
    "\n",
    "with open('vocab.pkl', 'wb') as f:\n",
    "    pickle.dump(vocab, f)"
   ]
  },
  {
   "cell_type": "code",
   "execution_count": null,
   "metadata": {},
   "outputs": [],
   "source": []
  }
 ],
 "metadata": {
  "kernelspec": {
   "display_name": "torch_hub",
   "language": "python",
   "name": "python3"
  },
  "language_info": {
   "codemirror_mode": {
    "name": "ipython",
    "version": 3
   },
   "file_extension": ".py",
   "mimetype": "text/x-python",
   "name": "python",
   "nbconvert_exporter": "python",
   "pygments_lexer": "ipython3",
   "version": "3.12.2"
  }
 },
 "nbformat": 4,
 "nbformat_minor": 2
}
